{
 "cells": [
  {
   "cell_type": "code",
   "execution_count": null,
   "metadata": {},
   "outputs": [],
   "source": [
    "from bs4 import BeautifulSoup\n",
    "import requests"
   ]
  },
  {
   "attachments": {},
   "cell_type": "markdown",
   "metadata": {},
   "source": [
    "### Global Constants"
   ]
  },
  {
   "cell_type": "code",
   "execution_count": null,
   "metadata": {},
   "outputs": [],
   "source": [
    "SEARCH_ENGINE_URL = \"https://www.ask.com/web\"\n",
    "SEARCH_RESULT_SELECTOR = \"PartialSearchResults-item-title-link result-link\"\n",
    "N_OF_RESULTS_REQUIRED = 10\n",
    "\n",
    "QUERY = \"How is the spinning mule fuelled\""
   ]
  },
  {
   "attachments": {},
   "cell_type": "markdown",
   "metadata": {},
   "source": [
    "### Fetch Results"
   ]
  },
  {
   "cell_type": "code",
   "execution_count": null,
   "metadata": {},
   "outputs": [],
   "source": [
    "search_result = requests.get(SEARCH_ENGINE_URL, params= {\n",
    "    \"q\": QUERY,\n",
    "    \"page\": 1\n",
    "})"
   ]
  },
  {
   "cell_type": "code",
   "execution_count": null,
   "metadata": {},
   "outputs": [],
   "source": [
    "soup = BeautifulSoup(search_result.text, \"html.parser\")"
   ]
  },
  {
   "cell_type": "code",
   "execution_count": null,
   "metadata": {},
   "outputs": [],
   "source": [
    "soup.title"
   ]
  },
  {
   "cell_type": "code",
   "execution_count": null,
   "metadata": {},
   "outputs": [],
   "source": [
    "retrieved_results = soup.find_all(\"a\", attrs= { \"class\": SEARCH_RESULT_SELECTOR }, limit=N_OF_RESULTS_REQUIRED)\n"
   ]
  },
  {
   "cell_type": "code",
   "execution_count": null,
   "metadata": {},
   "outputs": [],
   "source": [
    "retrieved_results[0]"
   ]
  },
  {
   "cell_type": "code",
   "execution_count": null,
   "metadata": {},
   "outputs": [],
   "source": [
    "type(retrieved_results[0])"
   ]
  },
  {
   "cell_type": "code",
   "execution_count": null,
   "metadata": {},
   "outputs": [],
   "source": [
    "retrieved_results[0][\"href\"]"
   ]
  },
  {
   "cell_type": "code",
   "execution_count": null,
   "metadata": {},
   "outputs": [],
   "source": [
    "type(retrieved_results[0][\"href\"])"
   ]
  },
  {
   "cell_type": "code",
   "execution_count": null,
   "metadata": {},
   "outputs": [],
   "source": [
    "results = list()\n",
    "for retrieved_result in retrieved_results:\n",
    "    results.append(retrieved_result[\"href\"])\n",
    "\n",
    "results"
   ]
  },
  {
   "attachments": {},
   "cell_type": "markdown",
   "metadata": {},
   "source": [
    "### Check results count"
   ]
  },
  {
   "cell_type": "code",
   "execution_count": null,
   "metadata": {},
   "outputs": [],
   "source": [
    "results_count = soup.find(\"div\", attrs={\"class\": \"PartialResultsHeader-summary\"}).contents[0]\n",
    "results_count"
   ]
  },
  {
   "cell_type": "code",
   "execution_count": null,
   "metadata": {},
   "outputs": [],
   "source": [
    "results_count_stripped = results_count.replace(\",\", \"\")\n",
    "results_count_stripped"
   ]
  },
  {
   "cell_type": "code",
   "execution_count": null,
   "metadata": {},
   "outputs": [],
   "source": [
    "import re\n",
    "\n",
    "prog = re.compile(r\"\\d+\")\n",
    "\n",
    "result = prog.findall(results_count_stripped)\n",
    "\n",
    "if result is not None:\n",
    "    counts = [int(r) for r in result]"
   ]
  },
  {
   "cell_type": "code",
   "execution_count": null,
   "metadata": {},
   "outputs": [],
   "source": [
    "counts"
   ]
  },
  {
   "cell_type": "code",
   "execution_count": null,
   "metadata": {},
   "outputs": [],
   "source": [
    "set([0, 1, 2, 2, 3, 4, 5, 6, 7, 7])"
   ]
  },
  {
   "cell_type": "code",
   "execution_count": null,
   "metadata": {},
   "outputs": [],
   "source": [
    "dict.fromkeys([1,2 , 3, 4, 4, 5, 5, 6]).keys()"
   ]
  },
  {
   "cell_type": "code",
   "execution_count": null,
   "metadata": {},
   "outputs": [],
   "source": [
    "from collections import OrderedDict\n",
    "\n",
    "test = OrderedDict.fromkeys([1,2 , 3, 4, 4, 5, 5, 6])\n",
    "\n",
    "list(test.keys()), len(test)"
   ]
  },
  {
   "attachments": {},
   "cell_type": "markdown",
   "metadata": {},
   "source": [
    "### Testing SearchEngine"
   ]
  },
  {
   "cell_type": "code",
   "execution_count": null,
   "metadata": {},
   "outputs": [],
   "source": [
    "from search_engine import SearchEngine"
   ]
  },
  {
   "cell_type": "code",
   "execution_count": null,
   "metadata": {},
   "outputs": [],
   "source": [
    "SearchEngine.search(SEARCH_ENGINE_URL, QUERY, { \"class\": SEARCH_RESULT_SELECTOR }, result_limit=10, should_sleep=False)"
   ]
  },
  {
   "cell_type": "code",
   "execution_count": null,
   "metadata": {},
   "outputs": [],
   "source": [
    "from os import getcwd\n",
    "\n",
    "getcwd()"
   ]
  },
  {
   "cell_type": "code",
   "execution_count": null,
   "metadata": {},
   "outputs": [],
   "source": [
    "QUERIES_SET_PATH = \"./../data/100QueriesSet3.txt\"\n",
    "\n",
    "from utils import read_queries\n",
    "\n",
    "read_queries(QUERIES_SET_PATH, 96)"
   ]
  },
  {
   "cell_type": "code",
   "execution_count": null,
   "metadata": {},
   "outputs": [],
   "source": [
    "from utils import write_checkpoint, read_checkpoint\n",
    "\n",
    "# write_checkpoint(\"./checkpoint.txt\", 10)\n",
    "read_checkpoint(\"./checkpoint.txt\")"
   ]
  },
  {
   "cell_type": "code",
   "execution_count": null,
   "metadata": {},
   "outputs": [],
   "source": [
    "from utils import save_results\n",
    "import logging\n",
    "\n",
    "logging.basicConfig(format=\"%(asctime)-15s [%(levelname)s] %(funcName)s: %(message)s\", level=logging.INFO)\n",
    "\n",
    "save_results(\"./../submission/hw1.json\", {'aaaaaaab': 1})"
   ]
  },
  {
   "cell_type": "code",
   "execution_count": 2,
   "metadata": {},
   "outputs": [
    {
     "name": "stderr",
     "output_type": "stream",
     "text": [
      "2023-01-28 17:41:32,152 [INFO] main: Checkpoint Query: 2\n",
      "2023-01-28 17:41:32,153 [INFO] main: Retrieving queries\n",
      "2023-01-28 17:41:32,154 [INFO] read_queries: Opening file: ./../data/100QueriesSet3.txt\n",
      "2023-01-28 17:41:32,154 [INFO] read_queries: Reading Queries\n",
      "2023-01-28 17:41:32,155 [INFO] read_queries: Queries Read: 99\n",
      "2023-01-28 17:41:32,155 [INFO] main: Retried query count: 99\n",
      "2023-01-28 17:41:32,156 [INFO] main: Query No #2; Query: What are two properties or characteristics of cotton fibers\n",
      "2023-01-28 17:41:32,156 [INFO] search: Starting to get search results until 10 results obtained for query\n",
      "2023-01-28 17:41:32,157 [INFO] search: Search Page: 1\n",
      "2023-01-28 17:41:32,157 [INFO] search: Now Searching: What are two properties or characteristics of cotton fibers\n",
      "2023-01-28 17:41:33,369 [INFO] search: Requested: https://www.ask.com/web?q=What%2Bare%2Btwo%2Bproperties%2Bor%2Bcharacteristics%2Bof%2Bcotton%2Bfibers&page=1\n",
      "2023-01-28 17:41:33,370 [INFO] search: Search Engine Response Status Code: 200\n",
      "2023-01-28 17:41:33,403 [INFO] search: Extracting result from search engine response\n",
      "2023-01-28 17:41:33,404 [INFO] __scrape_search_result: Getting all result anchor tags\n",
      "2023-01-28 17:41:33,405 [INFO] __scrape_search_result: Extracting the links (href) from result anchor tags\n",
      "2023-01-28 17:41:33,406 [INFO] __scrape_search_result: Retrieved 10 links\n",
      "2023-01-28 17:41:33,406 [INFO] can_search_further_func: Looking for result count for current search\n",
      "2023-01-28 17:41:33,406 [INFO] can_search_further_func: Result Count Summary: 1-10 of 19900000 results\n",
      "2023-01-28 17:41:33,407 [INFO] can_search_further_func: Should search further?: True\n",
      "2023-01-28 17:41:33,408 [INFO] search: No of results collected: 10\n",
      "2023-01-28 17:41:33,408 [INFO] save_results: Opening file ./../submission/hw1.json in r+ mode\n",
      "2023-01-28 17:41:33,408 [INFO] save_results: Loading existing results\n",
      "2023-01-28 17:41:33,410 [INFO] save_results: Existing # of Results: 1\n",
      "2023-01-28 17:41:33,411 [INFO] save_results: Add new results\n",
      "2023-01-28 17:41:33,411 [INFO] save_results: Store the updated results: 2\n",
      "2023-01-28 17:41:33,412 [INFO] main: Results Saved: 10\n",
      "2023-01-28 17:41:33,413 [INFO] main: Checkpoint saved\n"
     ]
    }
   ],
   "source": [
    "from main import main\n",
    "\n",
    "main()"
   ]
  },
  {
   "cell_type": "code",
   "execution_count": 7,
   "metadata": {},
   "outputs": [
    {
     "data": {
      "text/plain": [
       "{'a': [1, 2, 3], 'b': [2, 4, 5], 'c': [4, 6, 7], 'd': [8, 9, 10]}"
      ]
     },
     "execution_count": 7,
     "metadata": {},
     "output_type": "execute_result"
    }
   ],
   "source": [
    "from collections import OrderedDict\n",
    "\n",
    "o = dict()\n",
    "o.update({\"a\": [1, 2, 3], \"b\": [2, 4, 5]})\n",
    "o\n",
    "o.update({\"c\": [4, 6, 7], \"d\": [8, 9, 10]})\n",
    "o"
   ]
  },
  {
   "attachments": {},
   "cell_type": "markdown",
   "metadata": {},
   "source": [
    "### Scraping DuckDuckGo"
   ]
  },
  {
   "cell_type": "code",
   "execution_count": 30,
   "metadata": {},
   "outputs": [],
   "source": [
    "DUCKDUCKGO_URL = \"https://html.duckduckgo.com/html\"\n",
    "HEADERS = {\n",
    "    \"User-Agent\": \"Mozilla/5.0 (Windows NT 10.0; Win64; x64) AppleWebKit/537.36 (KHTML, like Gecko) Chrome/61.0.3163.100 Safari/537.36\",\n",
    "    \"Content-Type\": \"application/x-www-form-urlencoded\"\n",
    "}\n",
    "\n",
    "QUERY_STRING = \"What are some cheats for pets on barbiegirlscom\"\n"
   ]
  },
  {
   "cell_type": "code",
   "execution_count": 31,
   "metadata": {},
   "outputs": [],
   "source": [
    "from bs4 import BeautifulSoup\n",
    "import requests\n",
    "\n",
    "results_page = requests.get(DUCKDUCKGO_URL, params={\"q\": QUERY_STRING}, headers=HEADERS)\n",
    "\n",
    "if results_page.status_code != 200:\n",
    "    print(\"error scrapping duckduckgo\")\n",
    "\n",
    "soup = BeautifulSoup(results_page.text, \"html.parser\")\n"
   ]
  },
  {
   "cell_type": "code",
   "execution_count": 32,
   "metadata": {},
   "outputs": [
    {
     "data": {
      "text/plain": [
       "[<a class=\"result__a\" href=\"https://www.youtube.com/watch?v=SLYMTcfCmyM\" rel=\"nofollow\">Find 3 Frisky Pets On Barbiegirls! - YouTube</a>,\n",
       " <a class=\"result__a\" href=\"https://www.answers.com/Q/What_are_some_cheats_for_barbiegirls\" rel=\"nofollow\">What are some cheats for barbiegirls? - Answers</a>,\n",
       " <a class=\"result__a\" href=\"https://www.answers.com/Q/What_are_some_cheat_codes_for_barbiegirls.com\" rel=\"nofollow\">What are some cheat codes for barbiegirls.com? - Answers</a>,\n",
       " <a class=\"result__a\" href=\"https://www.reddit.com/r/Barbie/comments/guci5r/barbiegirlscom/\" rel=\"nofollow\">Barbiegirls.com : r/Barbie - reddit</a>,\n",
       " <a class=\"result__a\" href=\"https://www.supercheats.com/gameboy/barbiepetrescue.htm\" rel=\"nofollow\">Barbie Pet Rescue Cheats and Cheat Codes, GameBoy</a>,\n",
       " <a class=\"result__a\" href=\"https://snootysims.com/wiki/sims-4/the-ultimate-guide-to-the-sims-4-pets-cheats/\" rel=\"nofollow\">The Ultimate Guide to The Sims 4 Pets Cheats - SNOOTYSIMS</a>,\n",
       " <a class=\"result__a\" href=\"https://www.gamepur.com/guides/the-sims-4-cats-and-dogs-cheats\" rel=\"nofollow\">All cheat codes for The Sims 4: Cats &amp; Dogs - Gamepur</a>,\n",
       " <a class=\"result__a\" href=\"https://gamefaqs.gamespot.com/pc/937310-the-sims-pet-stories/cheats/\" rel=\"nofollow\">The Sims: Pet Stories Cheats, Codes, and Secrets for PC - GameFAQs</a>,\n",
       " <a class=\"result__a\" href=\"https://www.youtube.com/watch?v=iHeRVrRe5WY\" rel=\"nofollow\">PET SIMULATOR X AUTOFARM 2022 CHEATS PETS AUTO FARM - YouTube</a>,\n",
       " <a class=\"result__a\" href=\"https://wewantmods.com/sims-4-relationship-cheats/\" rel=\"nofollow\">Sims 4 Relationship Cheats For Pets, Romance, And Friendship</a>,\n",
       " <a class=\"result__a\" href=\"https://gamefaqs.gamespot.com/pc/926974-barbie-pet-rescue/cheats\" rel=\"nofollow\">Barbie: Pet Rescue Cheats, Codes, and Secrets for PC - GameFAQs</a>,\n",
       " <a class=\"result__a\" href=\"https://www.cheatcodes.com/barbie-groom-and-glam-pups-wii/\" rel=\"nofollow\">Barbie: Groom and Glam Pups cheats &amp; more for Wii (Wii)</a>,\n",
       " <a class=\"result__a\" href=\"https://www.cheatsguru.com/pc/barbiegirls/\" rel=\"nofollow\">BarbieGirls Cheats - CheatsGuru.Com</a>,\n",
       " <a class=\"result__a\" href=\"https://pastebin.com/ZXUCFUjJ\" rel=\"nofollow\">Pet Sim X Cheats - Pastebin.com</a>,\n",
       " <a class=\"result__a\" href=\"https://www.tynker.com/community/projects/play/roblox-pet-simulator-cheat/5cab4a9770b0024edf31b6e3/\" rel=\"nofollow\">Roblox: Pet Simulator Cheat | Tynker</a>,\n",
       " <a class=\"result__a\" href=\"https://www.ign.com/wikis/pc-cheats/Barbie:_Secret_Agent_Barbie_Cheats\" rel=\"nofollow\">Barbie: Secret Agent Barbie Cheats - PC Cheats Wiki Guide - IGN</a>]"
      ]
     },
     "execution_count": 32,
     "metadata": {},
     "output_type": "execute_result"
    }
   ],
   "source": [
    "raw_results = soup.find_all(\"a\", attrs={\"class\": \"result__a\"})\n",
    "\n",
    "raw_results"
   ]
  },
  {
   "cell_type": "code",
   "execution_count": 33,
   "metadata": {},
   "outputs": [
    {
     "data": {
      "text/plain": [
       "'https://www.youtube.com/watch?v=SLYMTcfCmyM'"
      ]
     },
     "execution_count": 33,
     "metadata": {},
     "output_type": "execute_result"
    }
   ],
   "source": [
    "raw_results[0][\"href\"]"
   ]
  },
  {
   "cell_type": "code",
   "execution_count": 34,
   "metadata": {},
   "outputs": [
    {
     "data": {
      "text/plain": [
       "['https://www.youtube.com/watch?v=SLYMTcfCmyM',\n",
       " 'https://www.answers.com/Q/What_are_some_cheats_for_barbiegirls',\n",
       " 'https://www.answers.com/Q/What_are_some_cheat_codes_for_barbiegirls.com',\n",
       " 'https://www.reddit.com/r/Barbie/comments/guci5r/barbiegirlscom/',\n",
       " 'https://www.supercheats.com/gameboy/barbiepetrescue.htm',\n",
       " 'https://snootysims.com/wiki/sims-4/the-ultimate-guide-to-the-sims-4-pets-cheats/',\n",
       " 'https://www.gamepur.com/guides/the-sims-4-cats-and-dogs-cheats',\n",
       " 'https://gamefaqs.gamespot.com/pc/937310-the-sims-pet-stories/cheats/',\n",
       " 'https://www.youtube.com/watch?v=iHeRVrRe5WY',\n",
       " 'https://wewantmods.com/sims-4-relationship-cheats/',\n",
       " 'https://gamefaqs.gamespot.com/pc/926974-barbie-pet-rescue/cheats',\n",
       " 'https://www.cheatcodes.com/barbie-groom-and-glam-pups-wii/',\n",
       " 'https://www.cheatsguru.com/pc/barbiegirls/',\n",
       " 'https://pastebin.com/ZXUCFUjJ',\n",
       " 'https://www.tynker.com/community/projects/play/roblox-pet-simulator-cheat/5cab4a9770b0024edf31b6e3/',\n",
       " 'https://www.ign.com/wikis/pc-cheats/Barbie:_Secret_Agent_Barbie_Cheats']"
      ]
     },
     "execution_count": 34,
     "metadata": {},
     "output_type": "execute_result"
    }
   ],
   "source": [
    "links = list()\n",
    "\n",
    "for result in raw_results:\n",
    "    links.append(result[\"href\"])\n",
    "\n",
    "links"
   ]
  },
  {
   "cell_type": "code",
   "execution_count": 35,
   "metadata": {},
   "outputs": [
    {
     "data": {
      "text/plain": [
       "16"
      ]
     },
     "execution_count": 35,
     "metadata": {},
     "output_type": "execute_result"
    }
   ],
   "source": [
    "len(links)"
   ]
  },
  {
   "cell_type": "code",
   "execution_count": 45,
   "metadata": {},
   "outputs": [
    {
     "data": {
      "text/plain": [
       "[<input name=\"q\" type=\"hidden\" value=\"What are some cheats for pets on barbiegirlscom\"/>,\n",
       " <input name=\"s\" type=\"hidden\" value=\"16\"/>,\n",
       " <input name=\"nextParams\" type=\"hidden\" value=\"\"/>,\n",
       " <input name=\"v\" type=\"hidden\" value=\"l\"/>,\n",
       " <input name=\"o\" type=\"hidden\" value=\"json\"/>,\n",
       " <input name=\"dc\" type=\"hidden\" value=\"17\"/>,\n",
       " <input name=\"api\" type=\"hidden\" value=\"d.js\"/>,\n",
       " <input name=\"vqd\" type=\"hidden\" value=\"3-175184682679957083398522660605059530658-18148341650050664269914205087853054787\"/>,\n",
       " <input name=\"kl\" type=\"hidden\" value=\"wt-wt\"/>]"
      ]
     },
     "execution_count": 45,
     "metadata": {},
     "output_type": "execute_result"
    }
   ],
   "source": [
    "inputs = soup.find_all(\"div\", attrs={\"class\": \"nav-link\"})[0].find(\"form\").find_all(\"input\", attrs={\"type\": \"hidden\"})\n",
    "inputs"
   ]
  },
  {
   "cell_type": "code",
   "execution_count": 46,
   "metadata": {},
   "outputs": [
    {
     "data": {
      "text/plain": [
       "{'q': 'What are some cheats for pets on barbiegirlscom',\n",
       " 's': '16',\n",
       " 'nextParams': '',\n",
       " 'v': 'l',\n",
       " 'o': 'json',\n",
       " 'dc': '17',\n",
       " 'api': 'd.js',\n",
       " 'vqd': '3-175184682679957083398522660605059530658-18148341650050664269914205087853054787',\n",
       " 'kl': 'wt-wt'}"
      ]
     },
     "execution_count": 46,
     "metadata": {},
     "output_type": "execute_result"
    }
   ],
   "source": [
    "data = dict()\n",
    "\n",
    "for inpt in inputs:\n",
    "    data[inpt[\"name\"]] = inpt[\"value\"]\n",
    "\n",
    "data"
   ]
  },
  {
   "cell_type": "code",
   "execution_count": null,
   "metadata": {},
   "outputs": [],
   "source": []
  },
  {
   "cell_type": "code",
   "execution_count": null,
   "metadata": {},
   "outputs": [],
   "source": []
  },
  {
   "cell_type": "code",
   "execution_count": 47,
   "metadata": {},
   "outputs": [
    {
     "data": {
      "text/plain": [
       "['https://www.answers.com/Q/What_are_some_cheats_for_barbiegirls',\n",
       " 'https://www.answers.com/Q/What_are_some_cheat_codes_for_barbiegirls.com',\n",
       " 'https://discover.hubpages.com/technology/Webkinz-Secret-Code---Free-Cheat-Codes',\n",
       " 'https://www.imore.com/pet-rescue-saga-top-10-tips-hints-and-cheats',\n",
       " 'https://www.pockettactics.com/pet-simulator-x/codes',\n",
       " 'https://www.reddit.com/r/superautopets/comments/qnp3ud/i_made_a_super_auto_pets_cheat_sheet/',\n",
       " 'https://cheatersoul.com/pet-simulator-x-hack/',\n",
       " 'https://www.supercheats.com/pet-rescue-saga/walkthrough/cheats',\n",
       " 'https://www.youtube.com/watch?v=iHeRVrRe5WY',\n",
       " 'https://github.com/rochakgupta/usc-csci-572/blob/master/hw1/output/hw1.json',\n",
       " 'https://gamertweak.com/animal-jam-codes-complete-list/',\n",
       " 'https://sites.google.com/site/petrescuesagatips/cheats-tips-and-help',\n",
       " 'https://www.reddit.com/r/thesims/comments/7wn28s/cheat_for_pet_pregnancy/',\n",
       " 'https://www.patreon.com/posts/19645059',\n",
       " 'https://www.lifewire.com/top-pokemon-go-cheat-codes-4583992',\n",
       " 'https://pastebin.com/ZXUCFUjJ',\n",
       " 'https://progameguides.com/roblox/club-roblox-codes/',\n",
       " 'https://snootysims.com/wiki/sims-4/cas-cheat/',\n",
       " 'https://simscommunity.info/2017/11/12/the-sims-4-cats-dogs-cheats/',\n",
       " 'https://www.pcgamer.com/sims-4-cheats/',\n",
       " 'https://www.supercheats.com/pet-rescue-saga/walkthrough/boosters']"
      ]
     },
     "execution_count": 47,
     "metadata": {},
     "output_type": "execute_result"
    }
   ],
   "source": [
    "results_page = requests.post(DUCKDUCKGO_URL, data, headers=HEADERS)\n",
    "\n",
    "if results_page.status_code != 200:\n",
    "    print(\"error scrapping duckduckgo\")\n",
    "\n",
    "soup = BeautifulSoup(results_page.text, \"html.parser\")\n",
    "\n",
    "raw_results = soup.find_all(\"a\", attrs={\"class\": \"result__a\"})\n",
    "\n",
    "links = list()\n",
    "\n",
    "for result in raw_results:\n",
    "    links.append(result[\"href\"])\n",
    "\n",
    "links\n"
   ]
  },
  {
   "cell_type": "code",
   "execution_count": null,
   "metadata": {},
   "outputs": [],
   "source": []
  },
  {
   "attachments": {},
   "cell_type": "markdown",
   "metadata": {},
   "source": [
    "### Comparing with Google Results"
   ]
  },
  {
   "cell_type": "code",
   "execution_count": 8,
   "metadata": {},
   "outputs": [],
   "source": [
    "REFERENCE_SEARCH_RESULT_FILE_PATH = \"./../data/Google_Result3.json\"\n",
    "OPPONENT_SEARCH_RESULTS_FILE_PATH = \"./../submission/hw1.json\"\n",
    "OUTPUT_FILE_PATH = \"./../submission/hw1.csv\""
   ]
  },
  {
   "cell_type": "code",
   "execution_count": null,
   "metadata": {},
   "outputs": [],
   "source": []
  }
 ],
 "metadata": {
  "kernelspec": {
   "display_name": "csci572",
   "language": "python",
   "name": "python3"
  },
  "language_info": {
   "codemirror_mode": {
    "name": "ipython",
    "version": 3
   },
   "file_extension": ".py",
   "mimetype": "text/x-python",
   "name": "python",
   "nbconvert_exporter": "python",
   "pygments_lexer": "ipython3",
   "version": "3.10.9"
  },
  "orig_nbformat": 4,
  "vscode": {
   "interpreter": {
    "hash": "4ddc021abfe24b291bb3dc969c41c19cfc2a678e5333becfb33abd4aa5361182"
   }
  }
 },
 "nbformat": 4,
 "nbformat_minor": 2
}
