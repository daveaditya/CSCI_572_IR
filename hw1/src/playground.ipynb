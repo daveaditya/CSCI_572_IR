{
 "cells": [
  {
   "cell_type": "code",
   "execution_count": null,
   "metadata": {},
   "outputs": [],
   "source": [
    "from bs4 import BeautifulSoup\n",
    "import requests"
   ]
  },
  {
   "attachments": {},
   "cell_type": "markdown",
   "metadata": {},
   "source": [
    "### Global Constants"
   ]
  },
  {
   "cell_type": "code",
   "execution_count": null,
   "metadata": {},
   "outputs": [],
   "source": [
    "SEARCH_ENGINE_URL = \"https://www.ask.com/web\"\n",
    "SEARCH_RESULT_SELECTOR = \"PartialSearchResults-item-title-link result-link\"\n",
    "N_OF_RESULTS_REQUIRED = 10\n",
    "\n",
    "QUERY = \"How is the spinning mule fuelled\""
   ]
  },
  {
   "attachments": {},
   "cell_type": "markdown",
   "metadata": {},
   "source": [
    "### Fetch Results"
   ]
  },
  {
   "cell_type": "code",
   "execution_count": null,
   "metadata": {},
   "outputs": [],
   "source": [
    "search_result = requests.get(SEARCH_ENGINE_URL, params= {\n",
    "    \"q\": QUERY,\n",
    "    \"page\": 1\n",
    "})"
   ]
  },
  {
   "cell_type": "code",
   "execution_count": null,
   "metadata": {},
   "outputs": [],
   "source": [
    "soup = BeautifulSoup(search_result.text, \"html.parser\")"
   ]
  },
  {
   "cell_type": "code",
   "execution_count": null,
   "metadata": {},
   "outputs": [],
   "source": [
    "soup.title"
   ]
  },
  {
   "cell_type": "code",
   "execution_count": null,
   "metadata": {},
   "outputs": [],
   "source": [
    "retrieved_results = soup.find_all(\"a\", attrs= { \"class\": SEARCH_RESULT_SELECTOR }, limit=N_OF_RESULTS_REQUIRED)\n"
   ]
  },
  {
   "cell_type": "code",
   "execution_count": null,
   "metadata": {},
   "outputs": [],
   "source": [
    "retrieved_results[0]"
   ]
  },
  {
   "cell_type": "code",
   "execution_count": null,
   "metadata": {},
   "outputs": [],
   "source": [
    "type(retrieved_results[0])"
   ]
  },
  {
   "cell_type": "code",
   "execution_count": null,
   "metadata": {},
   "outputs": [],
   "source": [
    "retrieved_results[0][\"href\"]"
   ]
  },
  {
   "cell_type": "code",
   "execution_count": null,
   "metadata": {},
   "outputs": [],
   "source": [
    "type(retrieved_results[0][\"href\"])"
   ]
  },
  {
   "cell_type": "code",
   "execution_count": null,
   "metadata": {},
   "outputs": [],
   "source": [
    "results = list()\n",
    "for retrieved_result in retrieved_results:\n",
    "    results.append(retrieved_result[\"href\"])\n",
    "\n",
    "results"
   ]
  },
  {
   "attachments": {},
   "cell_type": "markdown",
   "metadata": {},
   "source": [
    "### Check results count"
   ]
  },
  {
   "cell_type": "code",
   "execution_count": null,
   "metadata": {},
   "outputs": [],
   "source": [
    "results_count = soup.find(\"div\", attrs={\"class\": \"PartialResultsHeader-summary\"}).contents[0]\n",
    "results_count"
   ]
  },
  {
   "cell_type": "code",
   "execution_count": null,
   "metadata": {},
   "outputs": [],
   "source": [
    "results_count_stripped = results_count.replace(\",\", \"\")\n",
    "results_count_stripped"
   ]
  },
  {
   "cell_type": "code",
   "execution_count": null,
   "metadata": {},
   "outputs": [],
   "source": [
    "import re\n",
    "\n",
    "prog = re.compile(r\"\\d+\")\n",
    "\n",
    "result = prog.findall(results_count_stripped)\n",
    "\n",
    "if result is not None:\n",
    "    counts = [int(r) for r in result]"
   ]
  },
  {
   "cell_type": "code",
   "execution_count": null,
   "metadata": {},
   "outputs": [],
   "source": [
    "counts"
   ]
  },
  {
   "cell_type": "code",
   "execution_count": null,
   "metadata": {},
   "outputs": [],
   "source": [
    "set([0, 1, 2, 2, 3, 4, 5, 6, 7, 7])"
   ]
  },
  {
   "cell_type": "code",
   "execution_count": null,
   "metadata": {},
   "outputs": [],
   "source": [
    "dict.fromkeys([1,2 , 3, 4, 4, 5, 5, 6]).keys()"
   ]
  },
  {
   "cell_type": "code",
   "execution_count": null,
   "metadata": {},
   "outputs": [],
   "source": [
    "from collections import OrderedDict\n",
    "\n",
    "test = OrderedDict.fromkeys([1,2 , 3, 4, 4, 5, 5, 6])\n",
    "\n",
    "list(test.keys()), len(test)"
   ]
  },
  {
   "attachments": {},
   "cell_type": "markdown",
   "metadata": {},
   "source": [
    "### Testing SearchEngine"
   ]
  },
  {
   "cell_type": "code",
   "execution_count": null,
   "metadata": {},
   "outputs": [],
   "source": [
    "from search_engine import SearchEngine"
   ]
  },
  {
   "cell_type": "code",
   "execution_count": null,
   "metadata": {},
   "outputs": [],
   "source": [
    "SearchEngine.search(SEARCH_ENGINE_URL, QUERY, { \"class\": SEARCH_RESULT_SELECTOR }, result_limit=10, should_sleep=False)"
   ]
  },
  {
   "cell_type": "code",
   "execution_count": null,
   "metadata": {},
   "outputs": [],
   "source": [
    "from os import getcwd\n",
    "\n",
    "getcwd()"
   ]
  },
  {
   "cell_type": "code",
   "execution_count": null,
   "metadata": {},
   "outputs": [],
   "source": [
    "QUERIES_SET_PATH = \"./../data/100QueriesSet3.txt\"\n",
    "\n",
    "from utils import read_queries\n",
    "\n",
    "read_queries(QUERIES_SET_PATH, 96)"
   ]
  },
  {
   "cell_type": "code",
   "execution_count": null,
   "metadata": {},
   "outputs": [],
   "source": [
    "from utils import write_checkpoint, read_checkpoint\n",
    "\n",
    "# write_checkpoint(\"./checkpoint.txt\", 10)\n",
    "read_checkpoint(\"./checkpoint.txt\")"
   ]
  },
  {
   "cell_type": "code",
   "execution_count": null,
   "metadata": {},
   "outputs": [],
   "source": [
    "from utils import save_results\n",
    "import logging\n",
    "\n",
    "logging.basicConfig(format=\"%(asctime)-15s [%(levelname)s] %(funcName)s: %(message)s\", level=logging.INFO)\n",
    "\n",
    "save_results(\"./../submission/hw1.json\", {'aaaaaaab': 1})"
   ]
  },
  {
   "cell_type": "code",
   "execution_count": 2,
   "metadata": {},
   "outputs": [
    {
     "name": "stderr",
     "output_type": "stream",
     "text": [
      "2023-01-28 17:41:32,152 [INFO] main: Checkpoint Query: 2\n",
      "2023-01-28 17:41:32,153 [INFO] main: Retrieving queries\n",
      "2023-01-28 17:41:32,154 [INFO] read_queries: Opening file: ./../data/100QueriesSet3.txt\n",
      "2023-01-28 17:41:32,154 [INFO] read_queries: Reading Queries\n",
      "2023-01-28 17:41:32,155 [INFO] read_queries: Queries Read: 99\n",
      "2023-01-28 17:41:32,155 [INFO] main: Retried query count: 99\n",
      "2023-01-28 17:41:32,156 [INFO] main: Query No #2; Query: What are two properties or characteristics of cotton fibers\n",
      "2023-01-28 17:41:32,156 [INFO] search: Starting to get search results until 10 results obtained for query\n",
      "2023-01-28 17:41:32,157 [INFO] search: Search Page: 1\n",
      "2023-01-28 17:41:32,157 [INFO] search: Now Searching: What are two properties or characteristics of cotton fibers\n",
      "2023-01-28 17:41:33,369 [INFO] search: Requested: https://www.ask.com/web?q=What%2Bare%2Btwo%2Bproperties%2Bor%2Bcharacteristics%2Bof%2Bcotton%2Bfibers&page=1\n",
      "2023-01-28 17:41:33,370 [INFO] search: Search Engine Response Status Code: 200\n",
      "2023-01-28 17:41:33,403 [INFO] search: Extracting result from search engine response\n",
      "2023-01-28 17:41:33,404 [INFO] __scrape_search_result: Getting all result anchor tags\n",
      "2023-01-28 17:41:33,405 [INFO] __scrape_search_result: Extracting the links (href) from result anchor tags\n",
      "2023-01-28 17:41:33,406 [INFO] __scrape_search_result: Retrieved 10 links\n",
      "2023-01-28 17:41:33,406 [INFO] can_search_further_func: Looking for result count for current search\n",
      "2023-01-28 17:41:33,406 [INFO] can_search_further_func: Result Count Summary: 1-10 of 19900000 results\n",
      "2023-01-28 17:41:33,407 [INFO] can_search_further_func: Should search further?: True\n",
      "2023-01-28 17:41:33,408 [INFO] search: No of results collected: 10\n",
      "2023-01-28 17:41:33,408 [INFO] save_results: Opening file ./../submission/hw1.json in r+ mode\n",
      "2023-01-28 17:41:33,408 [INFO] save_results: Loading existing results\n",
      "2023-01-28 17:41:33,410 [INFO] save_results: Existing # of Results: 1\n",
      "2023-01-28 17:41:33,411 [INFO] save_results: Add new results\n",
      "2023-01-28 17:41:33,411 [INFO] save_results: Store the updated results: 2\n",
      "2023-01-28 17:41:33,412 [INFO] main: Results Saved: 10\n",
      "2023-01-28 17:41:33,413 [INFO] main: Checkpoint saved\n"
     ]
    }
   ],
   "source": [
    "from main import main\n",
    "\n",
    "main()"
   ]
  },
  {
   "cell_type": "code",
   "execution_count": null,
   "metadata": {},
   "outputs": [],
   "source": [
    "from collections import OrderedDict\n",
    "\n",
    "o = dict()\n",
    "o.update({\"a\": [1, 2, 3], \"b\": [2, 4, 5]})\n",
    "o\n",
    "o.update({\"c\": [4, 6, 7]})\n",
    "o"
   ]
  },
  {
   "cell_type": "code",
   "execution_count": null,
   "metadata": {},
   "outputs": [],
   "source": []
  }
 ],
 "metadata": {
  "kernelspec": {
   "display_name": "csci572",
   "language": "python",
   "name": "python3"
  },
  "language_info": {
   "codemirror_mode": {
    "name": "ipython",
    "version": 3
   },
   "file_extension": ".py",
   "mimetype": "text/x-python",
   "name": "python",
   "nbconvert_exporter": "python",
   "pygments_lexer": "ipython3",
   "version": "3.10.9"
  },
  "orig_nbformat": 4,
  "vscode": {
   "interpreter": {
    "hash": "4ddc021abfe24b291bb3dc969c41c19cfc2a678e5333becfb33abd4aa5361182"
   }
  }
 },
 "nbformat": 4,
 "nbformat_minor": 2
}
