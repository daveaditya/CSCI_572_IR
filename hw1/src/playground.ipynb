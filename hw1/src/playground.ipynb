{
 "cells": [
  {
   "cell_type": "code",
   "execution_count": null,
   "metadata": {},
   "outputs": [],
   "source": [
    "from bs4 import BeautifulSoup\n",
    "import requests"
   ]
  },
  {
   "attachments": {},
   "cell_type": "markdown",
   "metadata": {},
   "source": [
    "### Global Constants"
   ]
  },
  {
   "cell_type": "code",
   "execution_count": null,
   "metadata": {},
   "outputs": [],
   "source": [
    "SEARCH_ENGINE_URL = \"https://www.ask.com/web\"\n",
    "SEARCH_RESULT_SELECTOR = \"PartialSearchResults-item-title-link result-link\"\n",
    "N_OF_RESULTS_REQUIRED = 10\n",
    "\n",
    "QUERY = \"How is the spinning mule fuelled\""
   ]
  },
  {
   "attachments": {},
   "cell_type": "markdown",
   "metadata": {},
   "source": [
    "### Fetch Results"
   ]
  },
  {
   "cell_type": "code",
   "execution_count": null,
   "metadata": {},
   "outputs": [],
   "source": [
    "search_result = requests.get(SEARCH_ENGINE_URL, params= {\n",
    "    \"q\": QUERY,\n",
    "    \"page\": 1\n",
    "})"
   ]
  },
  {
   "cell_type": "code",
   "execution_count": null,
   "metadata": {},
   "outputs": [],
   "source": [
    "soup = BeautifulSoup(search_result.text, \"html.parser\")"
   ]
  },
  {
   "cell_type": "code",
   "execution_count": null,
   "metadata": {},
   "outputs": [],
   "source": [
    "soup.title"
   ]
  },
  {
   "cell_type": "code",
   "execution_count": null,
   "metadata": {},
   "outputs": [],
   "source": [
    "retrieved_results = soup.find_all(\"a\", attrs= { \"class\": SEARCH_RESULT_SELECTOR }, limit=N_OF_RESULTS_REQUIRED)\n"
   ]
  },
  {
   "cell_type": "code",
   "execution_count": null,
   "metadata": {},
   "outputs": [],
   "source": [
    "retrieved_results[0]"
   ]
  },
  {
   "cell_type": "code",
   "execution_count": null,
   "metadata": {},
   "outputs": [],
   "source": [
    "type(retrieved_results[0])"
   ]
  },
  {
   "cell_type": "code",
   "execution_count": null,
   "metadata": {},
   "outputs": [],
   "source": [
    "retrieved_results[0][\"href\"]"
   ]
  },
  {
   "cell_type": "code",
   "execution_count": null,
   "metadata": {},
   "outputs": [],
   "source": [
    "type(retrieved_results[0][\"href\"])"
   ]
  },
  {
   "cell_type": "code",
   "execution_count": null,
   "metadata": {},
   "outputs": [],
   "source": [
    "results = list()\n",
    "for retrieved_result in retrieved_results:\n",
    "    results.append(retrieved_result[\"href\"])\n",
    "\n",
    "results"
   ]
  },
  {
   "attachments": {},
   "cell_type": "markdown",
   "metadata": {},
   "source": [
    "### Check results count"
   ]
  },
  {
   "cell_type": "code",
   "execution_count": null,
   "metadata": {},
   "outputs": [],
   "source": [
    "results_count = soup.find(\"div\", attrs={\"class\": \"PartialResultsHeader-summary\"}).contents[0]\n",
    "results_count"
   ]
  },
  {
   "cell_type": "code",
   "execution_count": null,
   "metadata": {},
   "outputs": [],
   "source": [
    "results_count_stripped = results_count.replace(\",\", \"\")\n",
    "results_count_stripped"
   ]
  },
  {
   "cell_type": "code",
   "execution_count": null,
   "metadata": {},
   "outputs": [],
   "source": [
    "import re\n",
    "\n",
    "prog = re.compile(r\"\\d+\")\n",
    "\n",
    "result = prog.findall(results_count_stripped)\n",
    "\n",
    "if result is not None:\n",
    "    counts = [int(r) for r in result]"
   ]
  },
  {
   "cell_type": "code",
   "execution_count": null,
   "metadata": {},
   "outputs": [],
   "source": [
    "counts"
   ]
  },
  {
   "cell_type": "code",
   "execution_count": null,
   "metadata": {},
   "outputs": [],
   "source": [
    "set([0, 1, 2, 2, 3, 4, 5, 6, 7, 7])"
   ]
  },
  {
   "cell_type": "code",
   "execution_count": null,
   "metadata": {},
   "outputs": [],
   "source": [
    "dict.fromkeys([1,2 , 3, 4, 4, 5, 5, 6]).keys()"
   ]
  },
  {
   "cell_type": "code",
   "execution_count": null,
   "metadata": {},
   "outputs": [],
   "source": [
    "from collections import OrderedDict\n",
    "\n",
    "test = OrderedDict.fromkeys([1,2 , 3, 4, 4, 5, 5, 6])\n",
    "\n",
    "list(test.keys()), len(test)"
   ]
  },
  {
   "attachments": {},
   "cell_type": "markdown",
   "metadata": {},
   "source": [
    "### Testing SearchEngine"
   ]
  },
  {
   "cell_type": "code",
   "execution_count": null,
   "metadata": {},
   "outputs": [],
   "source": [
    "from search_engine import SearchEngine"
   ]
  },
  {
   "cell_type": "code",
   "execution_count": null,
   "metadata": {},
   "outputs": [],
   "source": [
    "SearchEngine.search(SEARCH_ENGINE_URL, QUERY, { \"class\": SEARCH_RESULT_SELECTOR }, result_limit=10, should_sleep=False)"
   ]
  },
  {
   "cell_type": "code",
   "execution_count": null,
   "metadata": {},
   "outputs": [],
   "source": [
    "from os import getcwd\n",
    "\n",
    "getcwd()"
   ]
  },
  {
   "cell_type": "code",
   "execution_count": null,
   "metadata": {},
   "outputs": [],
   "source": [
    "QUERIES_SET_PATH = \"./../data/100QueriesSet3.txt\"\n",
    "\n",
    "from utils import read_queries\n",
    "\n",
    "read_queries(QUERIES_SET_PATH, 96)"
   ]
  },
  {
   "cell_type": "code",
   "execution_count": null,
   "metadata": {},
   "outputs": [],
   "source": [
    "from utils import write_checkpoint, read_checkpoint\n",
    "\n",
    "# write_checkpoint(\"./checkpoint.txt\", 10)\n",
    "read_checkpoint(\"./checkpoint.txt\")"
   ]
  },
  {
   "cell_type": "code",
   "execution_count": null,
   "metadata": {},
   "outputs": [],
   "source": [
    "from utils import save_results\n",
    "import logging\n",
    "\n",
    "logging.basicConfig(format=\"%(asctime)-15s [%(levelname)s] %(funcName)s: %(message)s\", level=logging.INFO)\n",
    "\n",
    "save_results(\"./../submission/hw1.json\", {'aaaaaaab': 1})"
   ]
  },
  {
   "cell_type": "code",
   "execution_count": null,
   "metadata": {},
   "outputs": [],
   "source": [
    "from main import main\n",
    "\n",
    "main()"
   ]
  },
  {
   "cell_type": "code",
   "execution_count": null,
   "metadata": {},
   "outputs": [],
   "source": [
    "from collections import OrderedDict\n",
    "\n",
    "o = dict()\n",
    "o.update({\"a\": [1, 2, 3], \"b\": [2, 4, 5]})\n",
    "o\n",
    "o.update({\"c\": [4, 6, 7], \"d\": [8, 9, 10]})\n",
    "o"
   ]
  },
  {
   "attachments": {},
   "cell_type": "markdown",
   "metadata": {},
   "source": [
    "### Scraping DuckDuckGo"
   ]
  },
  {
   "cell_type": "code",
   "execution_count": null,
   "metadata": {},
   "outputs": [],
   "source": [
    "DUCKDUCKGO_URL = \"https://html.duckduckgo.com/html\"\n",
    "HEADERS = {\n",
    "    \"User-Agent\": \"Mozilla/5.0 (Windows NT 10.0; Win64; x64) AppleWebKit/537.36 (KHTML, like Gecko) Chrome/61.0.3163.100 Safari/537.36\",\n",
    "    \"Content-Type\": \"application/x-www-form-urlencoded\"\n",
    "}\n",
    "\n",
    "QUERY_STRING = \"What are some cheats for pets on barbiegirlscom\"\n"
   ]
  },
  {
   "cell_type": "code",
   "execution_count": null,
   "metadata": {},
   "outputs": [],
   "source": [
    "from bs4 import BeautifulSoup\n",
    "import requests\n",
    "\n",
    "results_page = requests.get(DUCKDUCKGO_URL, params={\"q\": QUERY_STRING}, headers=HEADERS)\n",
    "\n",
    "if results_page.status_code != 200:\n",
    "    print(\"error scrapping duckduckgo\")\n",
    "\n",
    "soup = BeautifulSoup(results_page.text, \"html.parser\")\n"
   ]
  },
  {
   "cell_type": "code",
   "execution_count": null,
   "metadata": {},
   "outputs": [],
   "source": [
    "raw_results = soup.find_all(\"a\", attrs={\"class\": \"result__a\"})\n",
    "\n",
    "raw_results"
   ]
  },
  {
   "cell_type": "code",
   "execution_count": null,
   "metadata": {},
   "outputs": [],
   "source": [
    "raw_results[0][\"href\"]"
   ]
  },
  {
   "cell_type": "code",
   "execution_count": null,
   "metadata": {},
   "outputs": [],
   "source": [
    "links = list()\n",
    "\n",
    "for result in raw_results:\n",
    "    links.append(result[\"href\"])\n",
    "\n",
    "links"
   ]
  },
  {
   "cell_type": "code",
   "execution_count": null,
   "metadata": {},
   "outputs": [],
   "source": [
    "len(links)"
   ]
  },
  {
   "cell_type": "code",
   "execution_count": null,
   "metadata": {},
   "outputs": [],
   "source": [
    "inputs = soup.find_all(\"div\", attrs={\"class\": \"nav-link\"})[0].find(\"form\").find_all(\"input\", attrs={\"type\": \"hidden\"})\n",
    "inputs"
   ]
  },
  {
   "cell_type": "code",
   "execution_count": null,
   "metadata": {},
   "outputs": [],
   "source": [
    "data = dict()\n",
    "\n",
    "for inpt in inputs:\n",
    "    data[inpt[\"name\"]] = inpt[\"value\"]\n",
    "\n",
    "data"
   ]
  },
  {
   "cell_type": "code",
   "execution_count": null,
   "metadata": {},
   "outputs": [],
   "source": [
    "results_page = requests.post(DUCKDUCKGO_URL, data, headers=HEADERS)\n",
    "\n",
    "if results_page.status_code != 200:\n",
    "    print(\"error scrapping duckduckgo\")\n",
    "\n",
    "soup = BeautifulSoup(results_page.text, \"html.parser\")\n",
    "\n",
    "raw_results = soup.find_all(\"a\", attrs={\"class\": \"result__a\"})\n",
    "\n",
    "links = list()\n",
    "\n",
    "for result in raw_results:\n",
    "    links.append(result[\"href\"])\n",
    "\n",
    "links\n"
   ]
  },
  {
   "attachments": {},
   "cell_type": "markdown",
   "metadata": {},
   "source": [
    "### Comparing with Google Results"
   ]
  },
  {
   "cell_type": "code",
   "execution_count": null,
   "metadata": {},
   "outputs": [],
   "source": [
    "REFERENCE_SEARCH_RESULT_FILE_PATH = \"./../data/Google_Result3.json\"\n",
    "OPPONENT_SEARCH_RESULTS_FILE_PATH = \"./../submission/hw1.json\"\n",
    "OUTPUT_FILE_PATH = \"./../submission/hw1.csv\""
   ]
  },
  {
   "cell_type": "code",
   "execution_count": null,
   "metadata": {},
   "outputs": [],
   "source": [
    "from utils import load_results\n",
    "\n",
    "reference_search_results = load_results(REFERENCE_SEARCH_RESULT_FILE_PATH)\n",
    "opponent_search_results = load_results(OPPONENT_SEARCH_RESULTS_FILE_PATH)"
   ]
  },
  {
   "cell_type": "code",
   "execution_count": null,
   "metadata": {},
   "outputs": [],
   "source": [
    "import pandas as pd\n",
    "import numpy as np\n",
    "\n",
    "# get first query\n",
    "query = list(reference_search_results.keys())[1]\n",
    "query"
   ]
  },
  {
   "cell_type": "code",
   "execution_count": null,
   "metadata": {},
   "outputs": [],
   "source": [
    "def normalize_url(urls):\n",
    "    # takes a list of URLs and returns processed list\n",
    "    normalized_urls = list()\n",
    "    for url in urls:\n",
    "        url = url.replace(\"www.\", \"\")\n",
    "        url = url.replace(\"https://\", \"http://\")\n",
    "        url = url.strip(\"/\")\n",
    "        normalized_urls.append(url)\n",
    "    \n",
    "    return normalized_urls\n"
   ]
  },
  {
   "cell_type": "code",
   "execution_count": null,
   "metadata": {},
   "outputs": [],
   "source": [
    "reference_set = normalize_url(reference_search_results[query])\n",
    "opponent_set = normalize_url(opponent_search_results[query])\n"
   ]
  },
  {
   "cell_type": "code",
   "execution_count": null,
   "metadata": {},
   "outputs": [],
   "source": [
    "overlap = len(set(reference_set).intersection(set(opponent_set)))\n",
    "overlap"
   ]
  },
  {
   "cell_type": "code",
   "execution_count": null,
   "metadata": {},
   "outputs": [],
   "source": [
    "spearman_correlation = list()\n",
    "diff = list()\n",
    "\n",
    "for idx, url in enumerate(reference_set):\n",
    "    try:\n",
    "        idx_2 = opponent_set.index(url)\n",
    "        spearman_correlation.append((idx + 1, idx_2 + 1))\n",
    "        diff.append(idx - idx_2)\n",
    "    except:\n",
    "        pass\n",
    "\n",
    "spearman_correlation, diff"
   ]
  },
  {
   "cell_type": "code",
   "execution_count": null,
   "metadata": {},
   "outputs": [],
   "source": [
    "rho = 1 - ((6 * np.sum(np.power(diff, 2))) / (overlap * (np.power(overlap, 2) - 1)))\n",
    "rho"
   ]
  },
  {
   "cell_type": "code",
   "execution_count": 4,
   "metadata": {},
   "outputs": [],
   "source": [
    "REFERENCE_SEARCH_RESULT_FILE_PATH = \"./../data/Google_Result4.json\"\n",
    "OPPONENT_SEARCH_RESULTS_FILE_PATH = \"./../submission/hw1_ddg.json\"\n",
    "OUTPUT_FILE_PATH = \"./../submission/hw1.csv\"\n"
   ]
  },
  {
   "cell_type": "code",
   "execution_count": null,
   "metadata": {},
   "outputs": [],
   "source": [
    "from task2 import main\n",
    "\n",
    "main(REFERENCE_SEARCH_RESULT_FILE_PATH, OPPONENT_SEARCH_RESULTS_FILE_PATH, OUTPUT_FILE_PATH)"
   ]
  },
  {
   "cell_type": "code",
   "execution_count": 5,
   "metadata": {},
   "outputs": [
    {
     "name": "stderr",
     "output_type": "stream",
     "text": [
      "2023-01-29 18:25:27,714 [INFO] load_results: Opening file ./../data/Google_Result4.json\n",
      "2023-01-29 18:25:27,716 [INFO] load_results: Opening file ./../submission/hw1_ddg.json\n"
     ]
    },
    {
     "data": {
      "text/plain": [
       "(100, 100)"
      ]
     },
     "execution_count": 5,
     "metadata": {},
     "output_type": "execute_result"
    }
   ],
   "source": [
    "from utils import load_results\n",
    "\n",
    "\n",
    "reference_search_results = load_results(REFERENCE_SEARCH_RESULT_FILE_PATH)\n",
    "opponent_search_results = load_results(OPPONENT_SEARCH_RESULTS_FILE_PATH)\n",
    "\n",
    "len(reference_search_results), len(opponent_search_results)"
   ]
  },
  {
   "cell_type": "code",
   "execution_count": 7,
   "metadata": {},
   "outputs": [],
   "source": [
    "for ref_result in reference_search_results:\n",
    "    print(ref_result)\n",
    "    if ref_result not in opponent_search_results:\n",
    "        print(\"NOT HERE!!!!!!!!!!!\")\n",
    "        break"
   ]
  },
  {
   "cell_type": "code",
   "execution_count": null,
   "metadata": {},
   "outputs": [],
   "source": [
    "def can_search_further(soup):\n",
    "    next_btn_div = soup.find_all(\"div\", attrs={\"class\": \"nav-link\"})\n",
    "    if next_btn_div is not None:\n",
    "        return True\n",
    "    else:\n",
    "        return False\n"
   ]
  },
  {
   "cell_type": "code",
   "execution_count": 1,
   "metadata": {},
   "outputs": [
    {
     "name": "stderr",
     "output_type": "stream",
     "text": [
      "2023-01-29 16:23:04,502 [INFO] search: Starting to get search results until 10 results obtained for query\n",
      "2023-01-29 16:23:04,502 [INFO] search: Sleeping for 36 seconds\n",
      "2023-01-29 16:23:40,507 [INFO] search: Search Page: 1\n",
      "2023-01-29 16:23:40,507 [INFO] search: Now Searching: A two dollar bill from 1953 is worth what \n",
      "2023-01-29 16:23:41,365 [INFO] search: Requested: https://html.duckduckgo.com/html/?q=A%2Btwo%2Bdollar%2Bbill%2Bfrom%2B1953%2Bis%2Bworth%2Bwhat%2B&page=1\n",
      "2023-01-29 16:23:41,365 [INFO] search: Search Engine Response Status Code: 200\n",
      "2023-01-29 16:23:41,378 [INFO] search: Extracting result from search engine response\n",
      "2023-01-29 16:23:41,378 [INFO] __scrape_search_result: Getting all result anchor tags\n",
      "2023-01-29 16:23:41,379 [INFO] __scrape_search_result: Extracting the links (href) from result anchor tags\n",
      "2023-01-29 16:23:41,380 [INFO] __scrape_search_result: Retrieved 10 links\n",
      "2023-01-29 16:23:41,380 [INFO] search: No of results collected: 10\n",
      "2023-01-29 16:23:41,380 [INFO] search: Sleeping for 100 seconds\n",
      "2023-01-29 16:25:21,386 [INFO] search: Search Page: 2\n",
      "2023-01-29 16:25:21,388 [INFO] search: Now Searching: A two dollar bill from 1953 is worth what \n",
      "2023-01-29 16:25:22,140 [INFO] search: Requested: https://html.duckduckgo.com/html/; Page #2\n",
      "2023-01-29 16:25:22,141 [INFO] search: Search Engine Response Status Code: 200\n",
      "2023-01-29 16:25:22,190 [INFO] search: Extracting result from search engine response\n",
      "2023-01-29 16:25:22,190 [INFO] __scrape_search_result: Getting all result anchor tags\n",
      "2023-01-29 16:25:22,191 [INFO] __scrape_search_result: Extracting the links (href) from result anchor tags\n",
      "2023-01-29 16:25:22,191 [INFO] __scrape_search_result: Retrieved 10 links\n"
     ]
    },
    {
     "data": {
      "text/plain": [
       "OrderedDict([('https://www.silverrecyclers.com/blog/1953-2-dollar-bill.aspx',\n",
       "              None),\n",
       "             ('https://www.vipartfair.com/1953-2-dollar-bill-value/', None),\n",
       "             ('https://treasurepursuits.com/1953-2-dollar-bill-value-whats-it-worth/',\n",
       "              None),\n",
       "             ('https://oldcurrencyvalues.com/1953_red_seal_two_dollar/', None),\n",
       "             ('https://antiques.lovetoknow.com/antique-price-guides/how-determine-2-dollar-bill-values',\n",
       "              None),\n",
       "             ('https://jewelrymarquis.com/coin/1953-2-dollar-bill-value',\n",
       "              None),\n",
       "             ('https://www.thesprucecrafts.com/red-seal-two-dollar-bill-4782928',\n",
       "              None),\n",
       "             ('https://hobbylark.com/collecting/Value-of-Two-Dollar-Bills',\n",
       "              None),\n",
       "             ('https://www.pcgs.com/news/what-is-my-two-dollar-bill-worth',\n",
       "              None),\n",
       "             ('https://www.thesprucecrafts.com/two-dollar-bill-worth-4776868',\n",
       "              None),\n",
       "             ('https://www.aol.com/paper-money-value-serial-numbers-170021578.html',\n",
       "              None),\n",
       "             ('https://www.artifactcollectors.com/what-is-the-value-of-a-red-seal-two-dollar-bill-930.html',\n",
       "              None),\n",
       "             ('https://oldmoneyprices.com/value-of-old-2-dollar-bills/', None),\n",
       "             ('https://www.quora.com/What-is-the-value-of-a-2-dollar-bill-from-1953?share=1',\n",
       "              None),\n",
       "             ('https://www.quora.com/Are-the-2-bills-I-m-saving-ever-going-to-be-more-valuable-than-2?share=1',\n",
       "              None),\n",
       "             ('https://www.jacquelinestallone.com/2-dollar-bill/', None),\n",
       "             ('http://www.uscurrency.gov/denominations/2', None),\n",
       "             ('https://www.silverrecyclers.com/blog/1963-2-dollar-bill.aspx',\n",
       "              None),\n",
       "             ('https://www.artifactcollectors.com/what-is-a-2.00-dollar-bill-worth-1956-with-a-red-seal-6730413.html',\n",
       "              None)])"
      ]
     },
     "execution_count": 1,
     "metadata": {},
     "output_type": "execute_result"
    }
   ],
   "source": [
    "import logging\n",
    "from duckduckgo import SearchEngine\n",
    "\n",
    "logging.basicConfig(format=\"%(asctime)-15s [%(levelname)s] %(funcName)s: %(message)s\", level=logging.INFO)\n",
    "\n",
    "results = SearchEngine.search(\"https://html.duckduckgo.com/html/\", \"A two dollar bill from 1953 is worth what \", {\"class\": \"result__a\"})\n",
    "results\n"
   ]
  },
  {
   "cell_type": "code",
   "execution_count": 3,
   "metadata": {},
   "outputs": [
    {
     "data": {
      "text/plain": [
       "19"
      ]
     },
     "execution_count": 3,
     "metadata": {},
     "output_type": "execute_result"
    }
   ],
   "source": [
    "list(results.keys()"
   ]
  }
 ],
 "metadata": {
  "kernelspec": {
   "display_name": "csci572",
   "language": "python",
   "name": "python3"
  },
  "language_info": {
   "codemirror_mode": {
    "name": "ipython",
    "version": 3
   },
   "file_extension": ".py",
   "mimetype": "text/x-python",
   "name": "python",
   "nbconvert_exporter": "python",
   "pygments_lexer": "ipython3",
   "version": "3.10.9"
  },
  "orig_nbformat": 4,
  "vscode": {
   "interpreter": {
    "hash": "4ddc021abfe24b291bb3dc969c41c19cfc2a678e5333becfb33abd4aa5361182"
   }
  }
 },
 "nbformat": 4,
 "nbformat_minor": 2
}
