{
 "cells": [
  {
   "cell_type": "code",
   "execution_count": null,
   "metadata": {},
   "outputs": [],
   "source": [
    "from bs4 import BeautifulSoup\n",
    "import requests"
   ]
  },
  {
   "attachments": {},
   "cell_type": "markdown",
   "metadata": {},
   "source": [
    "### Global Constants"
   ]
  },
  {
   "cell_type": "code",
   "execution_count": null,
   "metadata": {},
   "outputs": [],
   "source": [
    "SEARCH_ENGINE_URL = \"https://www.ask.com/web\"\n",
    "SEARCH_RESULT_SELECTOR = \"PartialSearchResults-item-title-link result-link\"\n",
    "N_OF_RESULTS_REQUIRED = 10\n",
    "\n",
    "QUERY = \"How is the spinning mule fuelled\""
   ]
  },
  {
   "attachments": {},
   "cell_type": "markdown",
   "metadata": {},
   "source": [
    "### Fetch Results"
   ]
  },
  {
   "cell_type": "code",
   "execution_count": null,
   "metadata": {},
   "outputs": [],
   "source": [
    "search_result = requests.get(SEARCH_ENGINE_URL, params= {\n",
    "    \"q\": QUERY,\n",
    "    \"page\": 1\n",
    "})"
   ]
  },
  {
   "cell_type": "code",
   "execution_count": null,
   "metadata": {},
   "outputs": [],
   "source": [
    "soup = BeautifulSoup(search_result.text, \"html.parser\")"
   ]
  },
  {
   "cell_type": "code",
   "execution_count": null,
   "metadata": {},
   "outputs": [],
   "source": [
    "soup.title"
   ]
  },
  {
   "cell_type": "code",
   "execution_count": null,
   "metadata": {},
   "outputs": [],
   "source": [
    "retrieved_results = soup.find_all(\"a\", attrs= { \"class\": SEARCH_RESULT_SELECTOR }, limit=N_OF_RESULTS_REQUIRED)\n"
   ]
  },
  {
   "cell_type": "code",
   "execution_count": null,
   "metadata": {},
   "outputs": [],
   "source": [
    "retrieved_results[0]"
   ]
  },
  {
   "cell_type": "code",
   "execution_count": null,
   "metadata": {},
   "outputs": [],
   "source": [
    "type(retrieved_results[0])"
   ]
  },
  {
   "cell_type": "code",
   "execution_count": null,
   "metadata": {},
   "outputs": [],
   "source": [
    "retrieved_results[0][\"href\"]"
   ]
  },
  {
   "cell_type": "code",
   "execution_count": null,
   "metadata": {},
   "outputs": [],
   "source": [
    "type(retrieved_results[0][\"href\"])"
   ]
  },
  {
   "cell_type": "code",
   "execution_count": null,
   "metadata": {},
   "outputs": [],
   "source": [
    "results = list()\n",
    "for retrieved_result in retrieved_results:\n",
    "    results.append(retrieved_result[\"href\"])\n",
    "\n",
    "results"
   ]
  },
  {
   "attachments": {},
   "cell_type": "markdown",
   "metadata": {},
   "source": [
    "### Check results count"
   ]
  },
  {
   "cell_type": "code",
   "execution_count": null,
   "metadata": {},
   "outputs": [],
   "source": [
    "results_count = soup.find(\"div\", attrs={\"class\": \"PartialResultsHeader-summary\"}).contents[0]\n",
    "results_count"
   ]
  },
  {
   "cell_type": "code",
   "execution_count": null,
   "metadata": {},
   "outputs": [],
   "source": [
    "results_count_stripped = results_count.replace(\",\", \"\")\n",
    "results_count_stripped"
   ]
  },
  {
   "cell_type": "code",
   "execution_count": null,
   "metadata": {},
   "outputs": [],
   "source": [
    "import re\n",
    "\n",
    "prog = re.compile(r\"\\d+\")\n",
    "\n",
    "result = prog.findall(results_count_stripped)\n",
    "\n",
    "if result is not None:\n",
    "    counts = [int(r) for r in result]"
   ]
  },
  {
   "cell_type": "code",
   "execution_count": null,
   "metadata": {},
   "outputs": [],
   "source": [
    "counts"
   ]
  },
  {
   "cell_type": "code",
   "execution_count": null,
   "metadata": {},
   "outputs": [],
   "source": [
    "set([0, 1, 2, 2, 3, 4, 5, 6, 7, 7])"
   ]
  },
  {
   "cell_type": "code",
   "execution_count": null,
   "metadata": {},
   "outputs": [],
   "source": [
    "dict.fromkeys([1,2 , 3, 4, 4, 5, 5, 6]).keys()"
   ]
  },
  {
   "cell_type": "code",
   "execution_count": null,
   "metadata": {},
   "outputs": [],
   "source": [
    "from collections import OrderedDict\n",
    "\n",
    "test = OrderedDict.fromkeys([1,2 , 3, 4, 4, 5, 5, 6])\n",
    "\n",
    "list(test.keys()), len(test)"
   ]
  },
  {
   "attachments": {},
   "cell_type": "markdown",
   "metadata": {},
   "source": [
    "### Testing SearchEngine"
   ]
  },
  {
   "cell_type": "code",
   "execution_count": null,
   "metadata": {},
   "outputs": [],
   "source": [
    "from search_engine import SearchEngine"
   ]
  },
  {
   "cell_type": "code",
   "execution_count": null,
   "metadata": {},
   "outputs": [],
   "source": [
    "SearchEngine.search(SEARCH_ENGINE_URL, QUERY, { \"class\": SEARCH_RESULT_SELECTOR }, result_limit=10, should_sleep=False)"
   ]
  },
  {
   "cell_type": "code",
   "execution_count": null,
   "metadata": {},
   "outputs": [],
   "source": [
    "from os import getcwd\n",
    "\n",
    "getcwd()"
   ]
  },
  {
   "cell_type": "code",
   "execution_count": null,
   "metadata": {},
   "outputs": [],
   "source": [
    "QUERIES_SET_PATH = \"./../data/100QueriesSet3.txt\"\n",
    "\n",
    "from utils import read_queries\n",
    "\n",
    "read_queries(QUERIES_SET_PATH, 96)"
   ]
  },
  {
   "cell_type": "code",
   "execution_count": null,
   "metadata": {},
   "outputs": [],
   "source": [
    "from utils import write_checkpoint, read_checkpoint\n",
    "\n",
    "# write_checkpoint(\"./checkpoint.txt\", 10)\n",
    "read_checkpoint(\"./checkpoint.txt\")"
   ]
  },
  {
   "cell_type": "code",
   "execution_count": null,
   "metadata": {},
   "outputs": [],
   "source": [
    "from utils import save_results\n",
    "import logging\n",
    "\n",
    "logging.basicConfig(format=\"%(asctime)-15s [%(levelname)s] %(funcName)s: %(message)s\", level=logging.INFO)\n",
    "\n",
    "save_results(\"./../submission/hw1.json\", {'aaaaaaab': 1})"
   ]
  },
  {
   "cell_type": "code",
   "execution_count": null,
   "metadata": {},
   "outputs": [],
   "source": [
    "from main import main\n",
    "\n",
    "main()"
   ]
  },
  {
   "cell_type": "code",
   "execution_count": null,
   "metadata": {},
   "outputs": [],
   "source": [
    "from collections import OrderedDict\n",
    "\n",
    "o = dict()\n",
    "o.update({\"a\": [1, 2, 3], \"b\": [2, 4, 5]})\n",
    "o\n",
    "o.update({\"c\": [4, 6, 7], \"d\": [8, 9, 10]})\n",
    "o"
   ]
  },
  {
   "attachments": {},
   "cell_type": "markdown",
   "metadata": {},
   "source": [
    "### Scraping DuckDuckGo"
   ]
  },
  {
   "cell_type": "code",
   "execution_count": null,
   "metadata": {},
   "outputs": [],
   "source": [
    "DUCKDUCKGO_URL = \"https://html.duckduckgo.com/html\"\n",
    "HEADERS = {\n",
    "    \"User-Agent\": \"Mozilla/5.0 (Windows NT 10.0; Win64; x64) AppleWebKit/537.36 (KHTML, like Gecko) Chrome/61.0.3163.100 Safari/537.36\",\n",
    "    \"Content-Type\": \"application/x-www-form-urlencoded\"\n",
    "}\n",
    "\n",
    "QUERY_STRING = \"What are some cheats for pets on barbiegirlscom\"\n"
   ]
  },
  {
   "cell_type": "code",
   "execution_count": null,
   "metadata": {},
   "outputs": [],
   "source": [
    "from bs4 import BeautifulSoup\n",
    "import requests\n",
    "\n",
    "results_page = requests.get(DUCKDUCKGO_URL, params={\"q\": QUERY_STRING}, headers=HEADERS)\n",
    "\n",
    "if results_page.status_code != 200:\n",
    "    print(\"error scrapping duckduckgo\")\n",
    "\n",
    "soup = BeautifulSoup(results_page.text, \"html.parser\")\n"
   ]
  },
  {
   "cell_type": "code",
   "execution_count": null,
   "metadata": {},
   "outputs": [],
   "source": [
    "raw_results = soup.find_all(\"a\", attrs={\"class\": \"result__a\"})\n",
    "\n",
    "raw_results"
   ]
  },
  {
   "cell_type": "code",
   "execution_count": null,
   "metadata": {},
   "outputs": [],
   "source": [
    "raw_results[0][\"href\"]"
   ]
  },
  {
   "cell_type": "code",
   "execution_count": null,
   "metadata": {},
   "outputs": [],
   "source": [
    "links = list()\n",
    "\n",
    "for result in raw_results:\n",
    "    links.append(result[\"href\"])\n",
    "\n",
    "links"
   ]
  },
  {
   "cell_type": "code",
   "execution_count": null,
   "metadata": {},
   "outputs": [],
   "source": [
    "len(links)"
   ]
  },
  {
   "cell_type": "code",
   "execution_count": null,
   "metadata": {},
   "outputs": [],
   "source": [
    "inputs = soup.find_all(\"div\", attrs={\"class\": \"nav-link\"})[0].find(\"form\").find_all(\"input\", attrs={\"type\": \"hidden\"})\n",
    "inputs"
   ]
  },
  {
   "cell_type": "code",
   "execution_count": null,
   "metadata": {},
   "outputs": [],
   "source": [
    "data = dict()\n",
    "\n",
    "for inpt in inputs:\n",
    "    data[inpt[\"name\"]] = inpt[\"value\"]\n",
    "\n",
    "data"
   ]
  },
  {
   "cell_type": "code",
   "execution_count": null,
   "metadata": {},
   "outputs": [],
   "source": []
  },
  {
   "cell_type": "code",
   "execution_count": null,
   "metadata": {},
   "outputs": [],
   "source": []
  },
  {
   "cell_type": "code",
   "execution_count": null,
   "metadata": {},
   "outputs": [],
   "source": [
    "results_page = requests.post(DUCKDUCKGO_URL, data, headers=HEADERS)\n",
    "\n",
    "if results_page.status_code != 200:\n",
    "    print(\"error scrapping duckduckgo\")\n",
    "\n",
    "soup = BeautifulSoup(results_page.text, \"html.parser\")\n",
    "\n",
    "raw_results = soup.find_all(\"a\", attrs={\"class\": \"result__a\"})\n",
    "\n",
    "links = list()\n",
    "\n",
    "for result in raw_results:\n",
    "    links.append(result[\"href\"])\n",
    "\n",
    "links\n"
   ]
  },
  {
   "cell_type": "code",
   "execution_count": null,
   "metadata": {},
   "outputs": [],
   "source": []
  },
  {
   "attachments": {},
   "cell_type": "markdown",
   "metadata": {},
   "source": [
    "### Comparing with Google Results"
   ]
  },
  {
   "cell_type": "code",
   "execution_count": null,
   "metadata": {},
   "outputs": [],
   "source": [
    "REFERENCE_SEARCH_RESULT_FILE_PATH = \"./../data/Google_Result3.json\"\n",
    "OPPONENT_SEARCH_RESULTS_FILE_PATH = \"./../submission/hw1.json\"\n",
    "OUTPUT_FILE_PATH = \"./../submission/hw1.csv\""
   ]
  },
  {
   "cell_type": "code",
   "execution_count": null,
   "metadata": {},
   "outputs": [],
   "source": [
    "from utils import load_results\n",
    "\n",
    "reference_search_results = load_results(REFERENCE_SEARCH_RESULT_FILE_PATH)\n",
    "opponent_search_results = load_results(OPPONENT_SEARCH_RESULTS_FILE_PATH)"
   ]
  },
  {
   "cell_type": "code",
   "execution_count": null,
   "metadata": {},
   "outputs": [],
   "source": [
    "import pandas as pd\n",
    "import numpy as np\n",
    "\n",
    "# get first query\n",
    "query = list(reference_search_results.keys())[1]\n",
    "query"
   ]
  },
  {
   "cell_type": "code",
   "execution_count": null,
   "metadata": {},
   "outputs": [],
   "source": [
    "def normalize_url(urls):\n",
    "    # takes a list of URLs and returns processed list\n",
    "    normalized_urls = list()\n",
    "    for url in urls:\n",
    "        url = url.replace(\"www.\", \"\")\n",
    "        url = url.replace(\"https://\", \"http://\")\n",
    "        url = url.strip(\"/\")\n",
    "        normalized_urls.append(url)\n",
    "    \n",
    "    return normalized_urls\n"
   ]
  },
  {
   "cell_type": "code",
   "execution_count": null,
   "metadata": {},
   "outputs": [],
   "source": [
    "reference_set = normalize_url(reference_search_results[query])\n",
    "opponent_set = normalize_url(opponent_search_results[query])\n"
   ]
  },
  {
   "cell_type": "code",
   "execution_count": null,
   "metadata": {},
   "outputs": [],
   "source": [
    "overlap = len(set(reference_set).intersection(set(opponent_set)))\n",
    "overlap"
   ]
  },
  {
   "cell_type": "code",
   "execution_count": null,
   "metadata": {},
   "outputs": [],
   "source": [
    "spearman_correlation = list()\n",
    "diff = list()\n",
    "\n",
    "for idx, url in enumerate(reference_set):\n",
    "    try:\n",
    "        idx_2 = opponent_set.index(url)\n",
    "        spearman_correlation.append((idx + 1, idx_2 + 1))\n",
    "        diff.append(idx - idx_2)\n",
    "    except:\n",
    "        pass\n",
    "\n",
    "spearman_correlation, diff"
   ]
  },
  {
   "cell_type": "code",
   "execution_count": null,
   "metadata": {},
   "outputs": [],
   "source": [
    "rho = 1 - ((6 * np.sum(np.power(diff, 2))) / (overlap * (np.power(overlap, 2) - 1)))\n",
    "rho"
   ]
  },
  {
   "cell_type": "code",
   "execution_count": 2,
   "metadata": {},
   "outputs": [],
   "source": [
    "REFERENCE_SEARCH_RESULT_FILE_PATH = \"./../data/Google_Result3.json\"\n",
    "OPPONENT_SEARCH_RESULTS_FILE_PATH = \"./../submission/hw1.json\"\n",
    "OUTPUT_FILE_PATH = \"./../submission/hw1.csv\"\n"
   ]
  },
  {
   "cell_type": "code",
   "execution_count": 6,
   "metadata": {},
   "outputs": [
    {
     "name": "stderr",
     "output_type": "stream",
     "text": [
      "2023-01-29 14:57:23,821 [INFO] load_results: Opening file ./../data/Google_Result3.json\n",
      "2023-01-29 14:57:23,823 [INFO] load_results: Opening file ./../submission/hw1.json\n"
     ]
    }
   ],
   "source": [
    "from task2 import main\n",
    "\n",
    "main(REFERENCE_SEARCH_RESULT_FILE_PATH, OPPONENT_SEARCH_RESULTS_FILE_PATH, OUTPUT_FILE_PATH)"
   ]
  },
  {
   "cell_type": "code",
   "execution_count": 3,
   "metadata": {},
   "outputs": [
    {
     "data": {
      "text/plain": [
       "(100, 100)"
      ]
     },
     "execution_count": 3,
     "metadata": {},
     "output_type": "execute_result"
    }
   ],
   "source": [
    "from utils import load_results\n",
    "\n",
    "\n",
    "reference_search_results = load_results(REFERENCE_SEARCH_RESULT_FILE_PATH)\n",
    "opponent_search_results = load_results(OPPONENT_SEARCH_RESULTS_FILE_PATH)\n",
    "\n",
    "len(reference_search_results), len(opponent_search_results)"
   ]
  },
  {
   "cell_type": "code",
   "execution_count": 5,
   "metadata": {},
   "outputs": [
    {
     "name": "stdout",
     "output_type": "stream",
     "text": [
      "How is the spinning mule fuelled\n",
      "What are two properties or characteristics of cotton fibers\n",
      "Information needed to locate a nonfiction book\n",
      "What is a non-chordates\n",
      "Which team won the 2006 Stanley Cup\n",
      "What bands are there in folk music\n",
      "What invented by persian\n",
      "Where was the place of origin for Taoism\n",
      "How many seats does usc stadium hold\n",
      "What is one of selena gomez top hit\n",
      "Sidney crosby live in pittburgh\n",
      "What is a normal 8year olds blood presure\n",
      "The capital city of the pennsylvannia colony was\n",
      "How many cups is 1 pounds of almond\n",
      "What parts make up the chloroplast\n",
      "What do crocodiles do to survive\n",
      "What is the name of the dog in Garfield '\n",
      "Are paris hilton and icole richie friends\n",
      "What is yur ideal job\n",
      "What are some cheats for pets on barbiegirlscom\n",
      "What are five obstacles to prayer\n",
      "How many chriss are in the world\n",
      "What year did john cabot return to England from canada\n",
      "What is the brown and white myepet 's code\n",
      "How much moneydoes a coach of soccer earn\n",
      "What is prospecting and what does prospector do\n",
      "How do you calculate load pressure\n",
      "2001 walking liberty silver dollar\n",
      "What is the number one adaptation for a sea anemone\n",
      "How much is the average yearly wage for an EMT intermediate in Georgia\n",
      "What kind of galleys is the milky way\n",
      "The name of ernest hemingway parents\n",
      "What is the hackcode to stick rpg complete\n",
      "What is the scientific name of the tail bone\n",
      "What kind of places do '' tourists visit when they travel to Poland\n",
      "How did Carolus Linaaeus classify organisms\n",
      "Infection of the skin on the lower leg unknown origin found icd-9cm\n",
      "What is the standard size for a billiards table in cm\n",
      "Do glaciers vreate mountains\n",
      "Who discovered x-rays and radiation therapy\n",
      "Some sentences of possessive adjectives in french\n",
      "Milage Frankfurt am Mainz to Vienna\n",
      "What do christians believe about healthy living\n",
      "How did telegraph change\n",
      "What do playboy girls do\n",
      "What is photoynthesis\n",
      "In which do you want to improve\n",
      "How do you replace a motor starter on a 1985 thunderbird\n",
      "Where does sperm can be found\n",
      "How do you access a routers settings\n",
      "The fundamental unit for measuring distance\n",
      "How many lines are there in a limerick\n",
      "How many black 6 in a deck\n",
      "How many bean seeds are in a pound\n",
      "What religon 's does russia have\n",
      "How many species of panda 's\n",
      "What is a model 1878 colt shotgun worth\n",
      "What temperature should a snake\n",
      "When was the first Radar used in weather observation\n",
      "What are the important religious celebrations of the Islam\n",
      "The ar code for the pokemon modifier\n",
      "Massachusetts age to be left alone\n",
      "What is spring like in the alps\n",
      "What is the popolarion of your London\n",
      "What is the order of british nobility\n",
      "What do you call a testable prediction about a possible solution to a problem\n",
      "You hear chreeing noises on your Nissian Altima\n",
      "What is neo-confuciansim\n",
      "How can you solve this issue in transporting\n",
      "Why does co curicullar activities bother studies\n",
      "What temperture do you cook a chicken at\n",
      "What does the proper left turn signal look like\n",
      "What are the main two motions of earth\n",
      "At what level does leafeon learn it final move\n",
      "What is 1921 wheat penny worth\n",
      "What causes a person to be fat or thin\n",
      "Replacing wiper blades on a 98 chevy s 10\n",
      "How many stitchs does a baseball have\n",
      "What is postive externality\n",
      "How many calories in 1 teaspoon of white sugar\n",
      "Is cloth heavier than paper\n",
      "Peter pan dog name\n",
      "What is the process the army uses for risk management\n",
      "What is the runaway growth of the bodys own cells\n",
      "How would you test sugar\n",
      "How do you heal pink eye\n",
      "What is the meaning of the word mariam\n",
      "How much does it cost for 1 gram of iron\n",
      "What is the theme in Cirque du Freak\n",
      "Who are daniel radcliffe is parents\n",
      "How do capitalize the letter f in cursive\n",
      "What is the value of a 1935 series f one dollar silver certificate\n",
      "What si the offical language of somalia\n",
      "Measurements of the field\n",
      "What is the name of the leader of columbia\n",
      "When was potassium discovered in\n",
      "What size is 34 inch waist\n",
      "The island future Singapore is\n",
      "What did schindler see\n",
      "How do you get rid of permanet marker\n"
     ]
    }
   ],
   "source": [
    "for ref_result in reference_search_results:\n",
    "    print(ref_result)\n",
    "    if ref_result not in opponent_search_results:\n",
    "        print(\"NOT HERE!!!!!!!!!!!\")\n",
    "        break"
   ]
  },
  {
   "cell_type": "code",
   "execution_count": null,
   "metadata": {},
   "outputs": [],
   "source": []
  }
 ],
 "metadata": {
  "kernelspec": {
   "display_name": "csci572",
   "language": "python",
   "name": "python3"
  },
  "language_info": {
   "codemirror_mode": {
    "name": "ipython",
    "version": 3
   },
   "file_extension": ".py",
   "mimetype": "text/x-python",
   "name": "python",
   "nbconvert_exporter": "python",
   "pygments_lexer": "ipython3",
   "version": "3.10.9"
  },
  "orig_nbformat": 4,
  "vscode": {
   "interpreter": {
    "hash": "4ddc021abfe24b291bb3dc969c41c19cfc2a678e5333becfb33abd4aa5361182"
   }
  }
 },
 "nbformat": 4,
 "nbformat_minor": 2
}
